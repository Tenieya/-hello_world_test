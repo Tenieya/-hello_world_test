{
  "metadata": {
    "kernelspec": {
      "name": "python",
      "display_name": "Python (Pyodide)",
      "language": "python"
    },
    "language_info": {
      "codemirror_mode": {
        "name": "python",
        "version": 3
      },
      "file_extension": ".py",
      "mimetype": "text/x-python",
      "name": "python",
      "nbconvert_exporter": "python",
      "pygments_lexer": "ipython3",
      "version": "3.8"
    }
  },
  "nbformat_minor": 4,
  "nbformat": 4,
  "cells": [
    {
      "cell_type": "code",
      "source": "secret = 8\n\nguess = 9\n\nif guess > 8:\n    print(\"Too High!\")\n\nelif guess < 8:\n    print(\"Too Low!\")\n\nelse:\n        print(\"Just Right!\")",
      "metadata": {
        "trusted": true
      },
      "outputs": [],
      "execution_count": null
    },
    {
      "cell_type": "code",
      "source": "# cherry, pea, watermelon and pumpkin.\n\nsmall = True\ngreen = False\n\nif small and green:\n    print(\"Pea\")\nelif small and not green:\n    print(\"Cherry\")\nelif not small and not green:\n    print(\"Watermelon\")\nelif not small and not green:\n    print(\"Pumpkin\")",
      "metadata": {
        "trusted": true
      },
      "outputs": [],
      "execution_count": null
    },
    {
      "cell_type": "code",
      "source": "list = [3, 2, 1, 0]\n\nfor list in list:\n    print(list)",
      "metadata": {
        "trusted": true
      },
      "outputs": [],
      "execution_count": null
    },
    {
      "cell_type": "code",
      "source": "guess_me = 7\nnumber = 1\n\nwhile True:\n    if number == guess_me:\n        print(\"Found it!\")\n    elif number > guess_me:\n        print(\"Oops!\")\n        break\n    else:\n        print(\"Too low!\")\n        break\n    number += 1\n",
      "metadata": {
        "trusted": true
      },
      "outputs": [],
      "execution_count": null
    },
    {
      "cell_type": "code",
      "source": "guess_me = 5\n\nfor number in range(10):\n    if number < guess_me:\n        print('Too low!')\n    elif number == guess_me:\n        print('Found it!')\n        break\n    else:\n        print('Oops!')\n        break",
      "metadata": {
        "trusted": true
      },
      "outputs": [],
      "execution_count": null
    }
  ]
}